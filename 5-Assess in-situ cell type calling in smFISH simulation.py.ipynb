{
 "cells": [
  {
   "cell_type": "markdown",
   "metadata": {},
   "source": [
    "# Assess in-situ cell type calling in smFISH simulation\n",
    "\n",
    "In this step we assess the cell type calling accuracy that we can achieve in with cell expression vector identified in the smFISH simulation. This estimated accuracy can be interpret as the accuracy that would be obtained in the experiment while taking into account difficulties span by the limited number of markers and the RNA-cell assignement.  \n",
    "\n",
    "This accuracy depend of the previous choice of the marker list and the RNA assignement method that were used. A high cell type accuracy on smFISH simulation would confirm that our marker genes and RNA assignement method are relevant to detect thetargeted cell type\n"
   ]
  },
  {
   "cell_type": "markdown",
   "metadata": {},
   "source": [
    "#### RNA assignement error estimation\n",
    "\n",
    "Assignement of RNA to cell is error prone in tissue due to the complexity of the cell shape, the possible high density of the nuclei and the lack of cytoplasm staining. Error in the RNA assignememnt to cell lead to error in the estimated RNA profile of the spatilly resolve cell and hence may lead to incorrect cell type calling.  \n",
    "    In this notebook we start by estimation the RNA assignememnt error using the mean jaccard index (also called IoU at the molecule level). In our context the jaccard index is\n",
    "$$\n",
    "  \\frac{GT\\cap P}{GT\\cup P}\\\n",
    "$$\n",
    "Where GT is the ground truth set of RNA of the cell and P is the predicted set of RNA of the cell"
   ]
  },
  {
   "cell_type": "code",
   "execution_count": 46,
   "metadata": {},
   "outputs": [],
   "source": [
    "import numpy as np\n",
    "import scanpy as sc\n",
    "from comseg.utils.preprocessing import run_sctransform, sctransform_from_parameters\n",
    "from  sklearn.utils.random import  sample_without_replacement\n",
    "from pathlib import Path\n",
    "from sklearn import metrics\n",
    "from sklearn.metrics import confusion_matrix, ConfusionMatrixDisplay\n",
    "from matplotlib import pyplot as plt"
   ]
  },
  {
   "cell_type": "code",
   "execution_count": 3,
   "metadata": {},
   "outputs": [
    {
     "name": "stdout",
     "output_type": "stream",
     "text": [
      "mean jaccard index is 0.8194918686079485\n"
     ]
    }
   ],
   "source": [
    "dict_result_jc = np.load(\"/home/tom/Bureau/phd/pipeline_review/test_set/dict_result_jc.npy\", allow_pickle=True).item()\n",
    "\n",
    "jaccard = []\n",
    "for image in dict_result_jc:\n",
    "    unique_cell = np.unique(dict_result_jc[image]['gr_cell'])\n",
    "    for cell in unique_cell:\n",
    "        df = dict_result_jc[image]\n",
    "        index_gr = df[df['gr_cell'] == cell].index\n",
    "        index_pred = df[df['pred_cell'] == cell].index\n",
    "        intersection = len(set(index_gr).intersection(set(index_pred)))\n",
    "        union = len(set(index_gr).union(set(index_pred)))\n",
    "        if union != 0:\n",
    "            jaccard.append(intersection / union)\n",
    "\n",
    "print(f'mean jaccard index is {np.mean(jaccard)}')\n",
    "      \n",
    "      "
   ]
  },
  {
   "cell_type": "markdown",
   "metadata": {},
   "source": [
    "The jaccard index is not equal to 1, hence estimated RNA profiles have some errors. We will try to classify theses estimated RNA profile to see if theses errors are small enought to not be detrimental for the cell type calling"
   ]
  },
  {
   "cell_type": "markdown",
   "metadata": {},
   "source": [
    "#### cell type classification method\n",
    "To classify each cell from its expression vector, we compute the cosine similarity between its RNA profile and the cell type centroids defined by scRNA-seq data "
   ]
  },
  {
   "cell_type": "markdown",
   "metadata": {},
   "source": [
    "We first compute the cell type centroid from the scRNA-seq data used for smFISH simulation"
   ]
  },
  {
   "cell_type": "code",
   "execution_count": 17,
   "metadata": {
    "scrolled": true
   },
   "outputs": [
    {
     "name": "stdout",
     "output_type": "stream",
     "text": [
      "optimisation can ba done here compute sctransform and centroind only once\n",
      "Writing temporary files...\n",
      "Running scTransform via Rscript...\n",
      "\n",
      "Attaching package: arrow\n",
      "\n",
      "The following objects are masked from package:feather:\n",
      "\n",
      "    read_feather, write_feather\n",
      "\n",
      "The following object is masked from package:utils:\n",
      "\n",
      "    timestamp\n",
      "\n",
      "Calculating cell attributes from input UMI matrix: log_umi\n",
      "Variance stabilizing transformation of count matrix of size 34 by 3996\n",
      "Model formula is y ~ log_umi\n",
      "Get Negative Binomial regression parameters per gene\n",
      "Using 34 genes, 3996 cells\n",
      "  |======================================================================| 100%\n",
      "Found 2 outliers - those will be ignored in fitting/regularization step\n",
      "\n",
      "Second step: Get residuals using fitted parameters for 34 genes\n",
      "  |======================================================================| 100%\n",
      "Calculating gene attributes\n",
      "Wall clock passed: Time difference of 0.6580091 secs\n",
      "Reading output files...\n",
      "Clipping residuals...\n"
     ]
    }
   ],
   "source": [
    "selected_gene = ['Atp6v0d2', 'Abcg1',# AM\n",
    "             'Rtkn2',  'Igfbp2', #AT1\n",
    "             'Sftpc','Cxcl15', #AT2,\n",
    "            'Cd79a', #B_cells\n",
    "             'Ms4a2', 'Fcer1a', #Basophils\n",
    "             'Ccdc153', #Ciliated\n",
    "             'Scgb3a2', 'Scgb1a1',#Club\n",
    "             'Cst3',#DC\n",
    "             'Cdh5', 'Clec14a',  #EC\n",
    "             'Inmt', 'Pcolce2', # Fibroblasts\n",
    "             'C1qc', 'C1qa', 'C1qb', # 'C3ar1', #IM\n",
    "             'Upk3b',# Mesotheliocytes\n",
    "             'Ifitm6','Plac8',# Monocytes\n",
    "            'Ms4a4b', 'Ccl5', 'Hcst', # NK_T_cells\n",
    "             'Gzma', 'Ncr1',# NK_cells\n",
    "             'S100a9',# Neutrophils\n",
    "             'Mmrn1',#Platelets\n",
    "           'Acta2','Myh11', # SMC\n",
    "             'Cd3g', 'Cd3d' #T_cells\n",
    "             ]\n",
    "\n",
    "path_to_rnaseq = \"../test_set/test_anndata.h5ad\"\n",
    "anndata = None\n",
    "normalize = True\n",
    "sample_size = 3999\n",
    "cell_type_column = \"cell_ID\"\n",
    "random_state= 1\n",
    "debug_path = None\n",
    "\n",
    "#todo implement the function without ssam package\n",
    "print('optimisation can ba done here compute sctransform and centroind only once')\n",
    "if anndata is None:\n",
    "    single_cells = sc.read(path_to_rnaseq)\n",
    "    random_index = sample_without_replacement(len(single_cells),\n",
    "                                              sample_size,\n",
    "                                   random_state = random_state)\n",
    "    anndata = single_cells[random_index, selected_gene].copy()\n",
    "    anndata.X = anndata.X.toarray()\n",
    "if type(anndata.X) != type(np.array([])):\n",
    "    anndata.X = anndata.X.toarray()\n",
    "#selected_genes_idx = [list(scrna_genes_qc).index(g) for g in ds.genes]\n",
    "scrna_unique_clusters =np.unique(list(anndata.obs[cell_type_column]))\n",
    "scrna_centroids = []\n",
    "## sc transform normalize the anndata\n",
    "# first remove the zero row (cell with no expression) #https://github.com/satijalab/sctransform/issues/86\n",
    "zero_rows_index  = list(np.where(np.sum(anndata[:, selected_gene].X, axis=1) == 0)[0])\n",
    "count_matrix = np.delete(anndata[:, selected_gene].X, zero_rows_index, axis=0)\n",
    "if normalize:\n",
    "    count_matrix, param_sctransform = run_sctransform(count_matrix, debug_path = debug_path)\n",
    "else:\n",
    "    param_sctransform  = None\n",
    "#print(count_matrix.shape)\n",
    "label_cell_type = np.delete(np.array(anndata.obs[cell_type_column]), zero_rows_index)\n",
    "\n",
    "for cl in scrna_unique_clusters:\n",
    "    #print(cl)\n",
    "    mean = np.mean(count_matrix[label_cell_type == cl], axis=0)\n",
    "    #print(mean)\n",
    "    scrna_centroids.append(mean)\n"
   ]
  },
  {
   "cell_type": "code",
   "execution_count": 42,
   "metadata": {},
   "outputs": [
    {
     "name": "stdout",
     "output_type": "stream",
     "text": [
      "/home/tom/Bureau/phd/pipeline_review/test_set/anndata/07_CtrlNI_Pdgfra-Cy3_Serpine1-Cy5_004.h5ad\n",
      "/home/tom/Bureau/phd/pipeline_review/test_set/anndata/07_CtrlNI_Pdgfra-Cy3_Serpine1-Cy5_006.h5ad\n",
      "cell type accuracy0.9402985074626866\n"
     ]
    }
   ],
   "source": [
    "y_true_cell_type  = []\n",
    "y_pred_cell_type = []\n",
    "for anndata_path in Path(\"/home/tom/Bureau/phd/pipeline_review/test_set/anndata/\").glob('*h5ad'):\n",
    "    print(anndata_path)\n",
    "    anndata = sc.read(anndata_path)\n",
    "    anndata.X = anndata.X.toarray()\n",
    "    for i in range(len(anndata)):\n",
    "        y_true_cell_type.append(anndata.obs['cell_type'][i])\n",
    "        expression_vector = anndata.X[i]\n",
    "        expression_vector = expression_vector.reshape(1, len(expression_vector))\n",
    "        norm_expression_vectors = sctransform_from_parameters(\n",
    "                    np.array(param_sctransform),\n",
    "                    expression_vector)\n",
    "        \n",
    "        correlation_array = metrics.pairwise.cosine_similarity(norm_expression_vectors,\n",
    "                                                                   np.array(scrna_centroids))[0]\n",
    "        index_cluster_max = np.argmax(correlation_array)\n",
    "        pred_rna_seq = scrna_unique_clusters[index_cluster_max]\n",
    "        \n",
    "        y_pred_cell_type.append(pred_rna_seq)\n",
    "\n",
    "acc = metrics.accuracy_score(y_true=y_true_cell_type,\n",
    "                             y_pred=y_pred_cell_type)\n",
    "print(f\"cell type accuracy{acc}\")"
   ]
  },
  {
   "cell_type": "markdown",
   "metadata": {},
   "source": [
    "The obtain cell type accuracy is 0.94"
   ]
  },
  {
   "cell_type": "code",
   "execution_count": 47,
   "metadata": {},
   "outputs": [
    {
     "data": {
      "text/plain": [
       "<sklearn.metrics._plot.confusion_matrix.ConfusionMatrixDisplay at 0x7f7e9078b880>"
      ]
     },
     "execution_count": 47,
     "metadata": {},
     "output_type": "execute_result"
    },
    {
     "data": {
      "image/png": "[encoded data removed]",
      "text/plain": [
       "<Figure size 720x720 with 2 Axes>"
      ]
     },
     "metadata": {
      "needs_background": "light"
     },
     "output_type": "display_data"
    }
   ],
   "source": [
    "cm = confusion_matrix(y_true_cell_type, y_pred_cell_type, labels=scrna_unique_clusters)\n",
    "disp = ConfusionMatrixDisplay(confusion_matrix=cm,\n",
    "                              display_labels=scrna_unique_clusters)\n",
    "fig, ax = plt.subplots(figsize=(10,10))\n",
    "disp.plot(ax=ax, xticks_rotation = \"vertical\")"
   ]
  },
  {
   "cell_type": "markdown",
   "metadata": {},
   "source": [
    "the confusion matrix above give information about which cell type is miss-classified. As example, some T-cell are miss-identify as NK-cell or Neutriphilis.  \n",
    "\n",
    "For the purpose of this tutorail we only use a very small number of cells but those notebooks can be run on larger scale."
   ]
  },
  {
   "cell_type": "code",
   "execution_count": null,
   "metadata": {},
   "outputs": [],
   "source": []
  }
 ],
 "metadata": {
  "kernelspec": {
   "display_name": "Python 3",
   "language": "python",
   "name": "python3"
  },
  "language_info": {
   "codemirror_mode": {
    "name": "ipython",
    "version": 3
   },
   "file_extension": ".py",
   "mimetype": "text/x-python",
   "name": "python",
   "nbconvert_exporter": "python",
   "pygments_lexer": "ipython3",
   "version": "3.8.10"
  }
 },
 "nbformat": 4,
 "nbformat_minor": 4
}
