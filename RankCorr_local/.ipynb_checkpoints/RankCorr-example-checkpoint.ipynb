{
 "cells": [
  {
   "cell_type": "markdown",
   "metadata": {},
   "source": [
    "07 May 2020\n",
    "\n",
    "# An example: running RankCorr on Paul"
   ]
  },
  {
   "cell_type": "markdown",
   "metadata": {},
   "source": [
    "For editing packages - don't need to run this"
   ]
  },
  {
   "cell_type": "code",
   "execution_count": 1,
   "metadata": {},
   "outputs": [],
   "source": [
    "%load_ext autoreload\n",
    "%autoreload 2"
   ]
  },
  {
   "cell_type": "code",
   "execution_count": 2,
   "metadata": {},
   "outputs": [],
   "source": [
    "import numpy as np\n",
    "import pandas as pd"
   ]
  },
  {
   "cell_type": "markdown",
   "metadata": {},
   "source": [
    "Also load scanpy for easy access to the Paul data set.  Check out the scanpy repository at https://github.com/theislab/scanpy"
   ]
  },
  {
   "cell_type": "code",
   "execution_count": 4,
   "metadata": {
    "scrolled": true
   },
   "outputs": [
    {
     "name": "stdout",
     "output_type": "stream",
     "text": [
      "WARNING: If you miss a compact list, please try `print_header`!\n",
      "The `sinfo` package has changed name and is now called `session_info` to become more discoverable and self-explanatory. The `sinfo` PyPI package will be kept around to avoid breaking old installs and you can downgrade to 0.3.2 if you want to use it without seeing this message. For the latest features and bug fixes, please install `session_info` instead. The usage and defaults also changed slightly, so please review the latest README at https://gitlab.com/joelostblom/session_info.\n",
      "-----\n",
      "anndata     0.7.8\n",
      "scanpy      1.8.2\n",
      "sinfo       0.3.4\n",
      "-----\n",
      "PIL                 8.4.0\n",
      "autoreload          NA\n",
      "backcall            0.2.0\n",
      "beta_ufunc          NA\n",
      "binom_ufunc         NA\n",
      "cached_property     1.5.2\n",
      "cycler              0.10.0\n",
      "cython_runtime      NA\n",
      "dateutil            2.8.1\n",
      "decorator           4.4.2\n",
      "h5py                3.5.0\n",
      "igraph              0.9.8\n",
      "ipykernel           5.3.4\n",
      "ipython_genutils    0.2.0\n",
      "jedi                0.18.0\n",
      "joblib              1.1.0\n",
      "kiwisolver          1.3.2\n",
      "leidenalg           0.8.8\n",
      "llvmlite            0.37.0\n",
      "matplotlib          3.4.3\n",
      "mpl_toolkits        NA\n",
      "natsort             8.0.0\n",
      "nbinom_ufunc        NA\n",
      "numba               0.54.1\n",
      "numexpr             2.7.3\n",
      "numpy               1.20.3\n",
      "packaging           21.2\n",
      "pandas              1.3.5\n",
      "parso               0.8.0\n",
      "pexpect             4.8.0\n",
      "pickleshare         0.7.5\n",
      "pkg_resources       NA\n",
      "prompt_toolkit      3.0.8\n",
      "ptyprocess          0.6.0\n",
      "pygments            2.7.1\n",
      "pyparsing           2.4.7\n",
      "pytz                2021.3\n",
      "scipy               1.7.2\n",
      "six                 1.15.0\n",
      "sklearn             0.23.2\n",
      "storemagic          NA\n",
      "tables              3.6.1\n",
      "texttable           1.6.4\n",
      "tornado             6.0.4\n",
      "traitlets           5.0.5\n",
      "typing_extensions   NA\n",
      "wcwidth             0.2.5\n",
      "zipp                NA\n",
      "zmq                 19.0.2\n",
      "-----\n",
      "IPython             7.18.1\n",
      "jupyter_client      6.1.7\n",
      "jupyter_core        4.6.3\n",
      "-----\n",
      "Python 3.7.11 (default, Jul 27 2021, 14:32:16) [GCC 7.5.0]\n",
      "Linux-5.11.0-46-generic-x86_64-with-debian-bullseye-sid\n",
      "16 logical CPU cores, x86_64\n",
      "-----\n",
      "Session information updated at 2022-01-17 14:53\n",
      "\n"
     ]
    }
   ],
   "source": [
    "import scanpy as sc\n",
    "\n",
    "sc.settings.verbosity = 3  # verbosity: errors (0), warnings (1), info (2), hints (3)\n",
    "sc.settings.set_figure_params(dpi=80, color_map='viridis')  # low dpi (dots per inch) yields small inline figures\n",
    "sc.logging.print_versions()"
   ]
  },
  {
   "cell_type": "code",
   "execution_count": 5,
   "metadata": {},
   "outputs": [],
   "source": [
    "import anndata"
   ]
  },
  {
   "cell_type": "markdown",
   "metadata": {},
   "source": [
    "## Load the RankCorr methods"
   ]
  },
  {
   "cell_type": "markdown",
   "metadata": {},
   "source": [
    "The RankCorr code is currently in a heavily modified version of the PicturedRocks package.  See the PicturedRocks repo at https://github.com/umangv/picturedrocks for the original package.\n",
    "\n",
    "The modified package is included in the code here - this needs to be loading the local version for the remainder of the code to run"
   ]
  },
  {
   "cell_type": "code",
   "execution_count": 4,
   "metadata": {},
   "outputs": [],
   "source": [
    "from picturedRocks import Rocks"
   ]
  },
  {
   "cell_type": "markdown",
   "metadata": {},
   "source": [
    "Required inputs for the `Rocks` class:\n",
    "\n",
    "* `X`, an `np.ndarry` of gene counts.  Each row should contain the genetic information from a cell; the columns of `X` correspond to the genes (note that this is the transpose of some commonly used packages).\n",
    "* `y`, a vector of cluster labels.  These labels must be consecutive integers starting at 0.\n"
   ]
  },
  {
   "cell_type": "markdown",
   "metadata": {},
   "source": [
    "## Load the Paul dataset\n",
    "\n",
    "This will automatically download the data set if this is your first time running it."
   ]
  },
  {
   "cell_type": "code",
   "execution_count": 12,
   "metadata": {},
   "outputs": [],
   "source": [
    "dataset = \"paul15\""
   ]
  },
  {
   "cell_type": "code",
   "execution_count": 7,
   "metadata": {},
   "outputs": [
    {
     "name": "stdout",
     "output_type": "stream",
     "text": [
      "WARNING: In Scanpy 0.*, this returned logarithmized data. Now it returns non-logarithmized data.\n"
     ]
    },
    {
     "data": {
      "application/vnd.jupyter.widget-view+json": {
       "model_id": "afd7425c1f484a9698c6ec5404fab130",
       "version_major": 2,
       "version_minor": 0
      },
      "text/plain": [
       "HBox(children=(FloatProgress(value=1.0, bar_style='info', description='paul15.h5', max=1.0, style=ProgressStyl…"
      ]
     },
     "metadata": {},
     "output_type": "display_data"
    },
    {
     "name": "stdout",
     "output_type": "stream",
     "text": [
      "\n"
     ]
    },
    {
     "name": "stderr",
     "output_type": "stream",
     "text": [
      "... storing 'paul15_clusters' as categorical\n",
      "Trying to set attribute `.uns` of view, copying.\n"
     ]
    }
   ],
   "source": [
    "adata = sc.datasets.paul15()"
   ]
  },
  {
   "cell_type": "code",
   "execution_count": 9,
   "metadata": {},
   "outputs": [
    {
     "data": {
      "text/plain": [
       "AnnData object with n_obs × n_vars = 2730 × 3451 \n",
       "    obs: 'paul15_clusters'\n",
       "    uns: 'iroot'"
      ]
     },
     "execution_count": 9,
     "metadata": {},
     "output_type": "execute_result"
    }
   ],
   "source": [
    "adata"
   ]
  },
  {
   "cell_type": "markdown",
   "metadata": {},
   "source": [
    "Create the required vector of cluster labels based on the strings provided in the AnnData object."
   ]
  },
  {
   "cell_type": "code",
   "execution_count": 10,
   "metadata": {},
   "outputs": [],
   "source": [
    "lookup = list(adata.obs['paul15_clusters'].cat.categories)\n",
    "yVec = np.array([lookup.index( adata.obs['paul15_clusters'][i] ) for i in range(adata.obs['paul15_clusters'].shape[0]) ])"
   ]
  },
  {
   "cell_type": "markdown",
   "metadata": {},
   "source": [
    "Here are cluster names from the Paul data set.  See Paul (2015)."
   ]
  },
  {
   "cell_type": "code",
   "execution_count": 14,
   "metadata": {},
   "outputs": [
    {
     "data": {
      "text/plain": [
       "['1Ery',\n",
       " '2Ery',\n",
       " '3Ery',\n",
       " '4Ery',\n",
       " '5Ery',\n",
       " '6Ery',\n",
       " '7MEP',\n",
       " '8Mk',\n",
       " '9GMP',\n",
       " '10GMP',\n",
       " '11DC',\n",
       " '12Baso',\n",
       " '13Baso',\n",
       " '14Mo',\n",
       " '15Mo',\n",
       " '16Neu',\n",
       " '17Neu',\n",
       " '18Eos',\n",
       " '19Lymph']"
      ]
     },
     "execution_count": 14,
     "metadata": {},
     "output_type": "execute_result"
    }
   ],
   "source": [
    "lookup"
   ]
  },
  {
   "cell_type": "markdown",
   "metadata": {},
   "source": [
    "Create the `Rocks` object as outlined above"
   ]
  },
  {
   "cell_type": "code",
   "execution_count": 14,
   "metadata": {},
   "outputs": [
    {
     "data": {
      "text/plain": [
       "'\\n# It is also possible to use the PicturedRocks for fold testing, to match the results from the manuscript. \\n# This will be discussed more in the future.\\nft = FoldTester(data)\\nfolds = np.load(\"paul15-scviFolds.npz\")[\"folds\"]\\nft.folds = folds\\nft.validatefolds()\\n\\nft.makerocks(verbose=0)\\n'"
      ]
     },
     "execution_count": 14,
     "metadata": {},
     "output_type": "execute_result"
    }
   ],
   "source": [
    "data = Rocks(adata.X, yVec)\n",
    "\n",
    "# PicturedRocks provides normalization capabilities, though this shouldn't be used for marker selection. \n",
    "#data.normalize(log=False, totalexpr=10000)\n",
    "\n",
    "'''\n",
    "# It is also possible to use the PicturedRocks for fold testing, to match the results from the manuscript. \n",
    "# This will be discussed more in the future.\n",
    "ft = FoldTester(data)\n",
    "folds = np.load(\"paul15-scviFolds.npz\")[\"folds\"]\n",
    "ft.folds = folds\n",
    "ft.validatefolds()\n",
    "\n",
    "ft.makerocks(verbose=0)\n",
    "'''"
   ]
  },
  {
   "cell_type": "markdown",
   "metadata": {},
   "source": [
    "## Run RankCorr"
   ]
  },
  {
   "cell_type": "markdown",
   "metadata": {},
   "source": [
    "The main RankCorr method is `CSrankMarkers.`  In addition to the data provided by the `Rocks` object, it requires one parameter:\n",
    "\n",
    "* `lamb` is the sparsity parameter - larger values of `lamb` will result in more markers selected per cluster\n",
    "\n",
    "There are several optional boolean parameters:\n",
    "\n",
    "* `writeOut` defaults to `False` and controls whether or not to write the selected markers to a file.  The deafult filename is \"ovrRankGenes-lamb{}.dat\", with the input value of `lamb`.\n",
    "* `keepZeros` should almost always be set to `False` (the default value).  It provides a tweak to keep the in the data matrix `X` unchanged by the ranking procedure (i.e. the zeros will be mapped to zero).  This has the effect of removing the zero counts from the analysis (while ranking all of the other counts correctly) and is purely added for experimental exploration.\n",
    "* `onlyNonZero` should almost always be set to `False` (the default value).  This provides a tweak to only rank the nonzero counts, pretending that the zero counts did not even exist. This is only useful if the zero counts in the application are completely uninformative (e.g. a zero count could easily represent a complete erasure of a massive count) which is not the case in UMI counts scRNA-seq data.\n",
    "\n",
    "Note that there are really not any hyperparamters to tweak!"
   ]
  },
  {
   "cell_type": "code",
   "execution_count": 22,
   "metadata": {},
   "outputs": [
    {
     "name": "stdout",
     "output_type": "stream",
     "text": [
      "CPU times: user 12.7 ms, sys: 782 µs, total: 13.5 ms\n",
      "Wall time: 12.9 ms\n"
     ]
    }
   ],
   "source": [
    "lamb = 3.0 # this can be whatever\n",
    "\n",
    "%time markers = data.CSrankMarkers(lamb=lamb, writeOut=False, keepZeros=False, onlyNonZero=False)"
   ]
  },
  {
   "cell_type": "markdown",
   "metadata": {},
   "source": [
    "By deafault, this gives a list of markers for the whole clustering, without separating markers by the cluster that they are selected for.  If `writeOut = True`, the cluster information is stored in the output file."
   ]
  },
  {
   "cell_type": "code",
   "execution_count": 21,
   "metadata": {},
   "outputs": [
    {
     "data": {
      "text/plain": [
       "84"
      ]
     },
     "execution_count": 21,
     "metadata": {},
     "output_type": "execute_result"
    }
   ],
   "source": [
    "len(markers)"
   ]
  },
  {
   "cell_type": "markdown",
   "metadata": {},
   "source": [
    "If you have the geneNames, add them to the `Rocks` object - then these markers can be converted to gene names."
   ]
  },
  {
   "cell_type": "code",
   "execution_count": 24,
   "metadata": {},
   "outputs": [],
   "source": [
    "geneNames = np.array(adata.var.index)\n",
    "data.genes = geneNames"
   ]
  },
  {
   "cell_type": "code",
   "execution_count": 25,
   "metadata": {},
   "outputs": [],
   "source": [
    "marker_genes = data.markers_to_genes(markers)"
   ]
  },
  {
   "cell_type": "code",
   "execution_count": 26,
   "metadata": {},
   "outputs": [
    {
     "data": {
      "text/plain": [
       "['1100001G20Rik',\n",
       " 'Elane',\n",
       " 'Calr',\n",
       " 'Emb',\n",
       " 'Rhd',\n",
       " 'Car1',\n",
       " 'Car2',\n",
       " 'Epx',\n",
       " 'Ermap',\n",
       " 'Casp3']"
      ]
     },
     "execution_count": 26,
     "metadata": {},
     "output_type": "execute_result"
    }
   ],
   "source": [
    "marker_genes[:10]"
   ]
  },
  {
   "cell_type": "code",
   "execution_count": null,
   "metadata": {},
   "outputs": [],
   "source": []
  }
 ],
 "metadata": {
  "kernelspec": {
   "display_name": "markers_selection",
   "language": "python",
   "name": "markers_selection"
  },
  "language_info": {
   "codemirror_mode": {
    "name": "ipython",
    "version": 3
   },
   "file_extension": ".py",
   "mimetype": "text/x-python",
   "name": "python",
   "nbconvert_exporter": "python",
   "pygments_lexer": "ipython3",
   "version": "3.7.11"
  }
 },
 "nbformat": 4,
 "nbformat_minor": 2
}
